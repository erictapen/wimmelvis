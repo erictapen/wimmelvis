{
 "cells": [
  {
   "cell_type": "code",
   "execution_count": 1,
   "source": [
    "import pandas as pd\n",
    "import json"
   ],
   "outputs": [],
   "metadata": {}
  },
  {
   "cell_type": "code",
   "execution_count": 2,
   "source": [
    "csvData = pd.read_csv(\"waste_data.csv\")"
   ],
   "outputs": [],
   "metadata": {}
  },
  {
   "cell_type": "code",
   "execution_count": 3,
   "source": [
    "csvData.head()"
   ],
   "outputs": [
    {
     "output_type": "execute_result",
     "data": {
      "text/plain": [
       "             id       name_EN         name_DE  Recyclable  \\\n",
       "0     pizza box     Pizza Box     Pizzakarton           2   \n",
       "1     tetrapack     Tetrapack       Tetrapack           2   \n",
       "2  shipping box  Shipping Box    Versandpaket           1   \n",
       "3     envelopes     Envelopes  Briefumschläge           1   \n",
       "4       receipt       Receipt        Quittung           0   \n",
       "\n",
       "                    recyclable_EN  \\\n",
       "0        Yes, this is recyclable!   \n",
       "1        Yes, this is recyclable!   \n",
       "2  Yes, this is recyclable! BUT:    \n",
       "3        Yes, this is recyclable!   \n",
       "4     No, this is not recyclable!   \n",
       "\n",
       "                                  material_info (EN)  \\\n",
       "0  Its made out of carton. BUT: If it is stained ...   \n",
       "1  Its made out of around seven differrent materi...   \n",
       "2  The different components like tape and sticker...   \n",
       "3  As long as the main component is paper it can ...   \n",
       "4  The thermal paper has a special coating which ...   \n",
       "\n",
       "                        recyclable_DE  \\\n",
       "0        Richtig, der ist recycelbar!   \n",
       "1        Richtig, das ist recycelbar!   \n",
       "2  Richtig, das ist recycelbar! ABER:   \n",
       "3       Richtig, die sind recycelbar!   \n",
       "4   Falsch, die ist nicht recycelbar!   \n",
       "\n",
       "                                  material_info (DE)   recycling_bin   color  \n",
       "0  Er besteht aus Pappe. ABER: Wenn er voller Fet...        Hausmüll   black  \n",
       "1  Es besteht aus etwa sieben verschiedenen Mater...  Wertstofftonne  yellow  \n",
       "2  Die verschiedenen Bestandteile wie Klebeband u...     Papiertonne    blue  \n",
       "3  Solange der Hauptbestandteil Papier ist, könne...     Papiertonne    blue  \n",
       "4  Das Thermopapier hat eine spezielle Beschichtu...        Hausmüll   black  "
      ],
      "text/html": [
       "<div>\n",
       "<style scoped>\n",
       "    .dataframe tbody tr th:only-of-type {\n",
       "        vertical-align: middle;\n",
       "    }\n",
       "\n",
       "    .dataframe tbody tr th {\n",
       "        vertical-align: top;\n",
       "    }\n",
       "\n",
       "    .dataframe thead th {\n",
       "        text-align: right;\n",
       "    }\n",
       "</style>\n",
       "<table border=\"1\" class=\"dataframe\">\n",
       "  <thead>\n",
       "    <tr style=\"text-align: right;\">\n",
       "      <th></th>\n",
       "      <th>id</th>\n",
       "      <th>name_EN</th>\n",
       "      <th>name_DE</th>\n",
       "      <th>Recyclable</th>\n",
       "      <th>recyclable_EN</th>\n",
       "      <th>material_info (EN)</th>\n",
       "      <th>recyclable_DE</th>\n",
       "      <th>material_info (DE)</th>\n",
       "      <th>recycling_bin</th>\n",
       "      <th>color</th>\n",
       "    </tr>\n",
       "  </thead>\n",
       "  <tbody>\n",
       "    <tr>\n",
       "      <th>0</th>\n",
       "      <td>pizza box</td>\n",
       "      <td>Pizza Box</td>\n",
       "      <td>Pizzakarton</td>\n",
       "      <td>2</td>\n",
       "      <td>Yes, this is recyclable!</td>\n",
       "      <td>Its made out of carton. BUT: If it is stained ...</td>\n",
       "      <td>Richtig, der ist recycelbar!</td>\n",
       "      <td>Er besteht aus Pappe. ABER: Wenn er voller Fet...</td>\n",
       "      <td>Hausmüll</td>\n",
       "      <td>black</td>\n",
       "    </tr>\n",
       "    <tr>\n",
       "      <th>1</th>\n",
       "      <td>tetrapack</td>\n",
       "      <td>Tetrapack</td>\n",
       "      <td>Tetrapack</td>\n",
       "      <td>2</td>\n",
       "      <td>Yes, this is recyclable!</td>\n",
       "      <td>Its made out of around seven differrent materi...</td>\n",
       "      <td>Richtig, das ist recycelbar!</td>\n",
       "      <td>Es besteht aus etwa sieben verschiedenen Mater...</td>\n",
       "      <td>Wertstofftonne</td>\n",
       "      <td>yellow</td>\n",
       "    </tr>\n",
       "    <tr>\n",
       "      <th>2</th>\n",
       "      <td>shipping box</td>\n",
       "      <td>Shipping Box</td>\n",
       "      <td>Versandpaket</td>\n",
       "      <td>1</td>\n",
       "      <td>Yes, this is recyclable! BUT:</td>\n",
       "      <td>The different components like tape and sticker...</td>\n",
       "      <td>Richtig, das ist recycelbar! ABER:</td>\n",
       "      <td>Die verschiedenen Bestandteile wie Klebeband u...</td>\n",
       "      <td>Papiertonne</td>\n",
       "      <td>blue</td>\n",
       "    </tr>\n",
       "    <tr>\n",
       "      <th>3</th>\n",
       "      <td>envelopes</td>\n",
       "      <td>Envelopes</td>\n",
       "      <td>Briefumschläge</td>\n",
       "      <td>1</td>\n",
       "      <td>Yes, this is recyclable!</td>\n",
       "      <td>As long as the main component is paper it can ...</td>\n",
       "      <td>Richtig, die sind recycelbar!</td>\n",
       "      <td>Solange der Hauptbestandteil Papier ist, könne...</td>\n",
       "      <td>Papiertonne</td>\n",
       "      <td>blue</td>\n",
       "    </tr>\n",
       "    <tr>\n",
       "      <th>4</th>\n",
       "      <td>receipt</td>\n",
       "      <td>Receipt</td>\n",
       "      <td>Quittung</td>\n",
       "      <td>0</td>\n",
       "      <td>No, this is not recyclable!</td>\n",
       "      <td>The thermal paper has a special coating which ...</td>\n",
       "      <td>Falsch, die ist nicht recycelbar!</td>\n",
       "      <td>Das Thermopapier hat eine spezielle Beschichtu...</td>\n",
       "      <td>Hausmüll</td>\n",
       "      <td>black</td>\n",
       "    </tr>\n",
       "  </tbody>\n",
       "</table>\n",
       "</div>"
      ]
     },
     "metadata": {},
     "execution_count": 3
    }
   ],
   "metadata": {
    "scrolled": true
   }
  },
  {
   "cell_type": "code",
   "execution_count": 4,
   "source": [
    "csvData['id'] = csvData['id'].str.replace(' ','-')"
   ],
   "outputs": [],
   "metadata": {}
  },
  {
   "cell_type": "code",
   "execution_count": 5,
   "source": [
    "csvData = csvData.rename(columns = {'material_info (EN)': 'material_info_EN', 'material_info (DE)': 'material_info_DE'})"
   ],
   "outputs": [],
   "metadata": {}
  },
  {
   "cell_type": "code",
   "execution_count": 6,
   "source": [
    "csvData_idIndex = csvData.set_index('id')"
   ],
   "outputs": [],
   "metadata": {}
  },
  {
   "cell_type": "code",
   "execution_count": 7,
   "source": [
    "csvData_idIndex.to_json('waste_data.json', orient='index')"
   ],
   "outputs": [],
   "metadata": {}
  }
 ],
 "metadata": {
  "kernelspec": {
   "name": "python3",
   "display_name": "Python 3.8.5 64-bit ('my_env': conda)"
  },
  "language_info": {
   "codemirror_mode": {
    "name": "ipython",
    "version": 3
   },
   "file_extension": ".py",
   "mimetype": "text/x-python",
   "name": "python",
   "nbconvert_exporter": "python",
   "pygments_lexer": "ipython3",
   "version": "3.8.5"
  },
  "interpreter": {
   "hash": "b783a66bfb764372e9fc2ab011aad44c40357b61b3c58819f08848851d5a84a3"
  }
 },
 "nbformat": 4,
 "nbformat_minor": 4
}